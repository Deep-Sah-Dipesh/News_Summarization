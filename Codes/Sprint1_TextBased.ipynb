{
 "cells": [
  {
   "cell_type": "code",
   "execution_count": null,
   "id": "3b2b9461",
   "metadata": {
    "vscode": {
     "languageId": "plaintext"
    }
   },
   "outputs": [],
   "source": [
    "# Install necessary libraries for the project\n",
    "!pip install -q transformers datasets torch sentencepiece tqdm"
   ]
  },
  {
   "cell_type": "code",
   "execution_count": null,
   "id": "18e652ef",
   "metadata": {
    "vscode": {
     "languageId": "plaintext"
    }
   },
   "outputs": [],
   "source": [
    "# Import all required libraries\n",
    "import torch\n",
    "from datasets import load_dataset\n",
    "from transformers import (\n",
    "    MBartForConditionalGeneration,\n",
    "    MBart50TokenizerFast,\n",
    "    TrainingArguments,\n",
    "    Trainer,\n",
    "    DataCollatorForSeq2Seq\n",
    ")\n",
    "from tqdm.auto import tqdm\n",
    "\n",
    "# Configure tqdm to show progress bars\n",
    "tqdm.pandas()\n",
    "\n",
    "print(\" All libraries imported and configured.\")"
   ]
  },
  {
   "cell_type": "code",
   "execution_count": null,
   "id": "8ba327aa",
   "metadata": {
    "vscode": {
     "languageId": "plaintext"
    }
   },
   "outputs": [],
   "source": [
    "# --- Define a placeholder translation function ---\n",
    "# IMPORTANT: In your real project, replace this with calls to a real translation API.\n",
    "def pseudo_translate_to_hindi(text_batch):\n",
    "    \"\"\"\n",
    "    This is a dummy translation function that works on batches of text.\n",
    "    It simulates translation by adding a Hindi prefix.\n",
    "    \"\"\"\n",
    "    return [f\"हिन्दी: {text}\" for text in text_batch]\n",
    "\n",
    "\n",
    "# --- Load the dataset from Hugging Face Hub ---\n",
    "# We'll use a small slice (200 examples) for this demonstration to keep it fast.\n",
    "# For your final model, you'll want to use a much larger dataset.\n",
    "print(\"Loading a sample of the XSum dataset...\")\n",
    "dataset = load_dataset(\"xsum\", split=\"train[:200]\")\n",
    "print(f\"Dataset loaded with {len(dataset)} examples.\")\n",
    "\n",
    "\n",
    "# --- Create the cross-lingual column ---\n",
    "# We use .map() to apply our pseudo-translation to each summary.\n",
    "# The 'batched=True' argument processes multiple rows at once for speed.\n",
    "print(\"\\nCreating synthetic Hindi summaries (this will show a progress bar)...\")\n",
    "dataset = dataset.map(\n",
    "    lambda batch: {'hindi_summary': pseudo_translate_to_hindi(batch['summary'])},\n",
    "    batched=True,\n",
    "    batch_size=16  # Process in batches of 16\n",
    ")\n",
    "\n",
    "print(\"\\n Step 1 complete. Dataset prepared.\")\n",
    "print(\"\\n--- Let's inspect one example to confirm: ---\")\n",
    "print(f\"ENGLISH DOCUMENT: {dataset[0]['document'][:250]}...\")\n",
    "print(f\"HINDI SUMMARY: {dataset[0]['hindi_summary']}\")"
   ]
  },
  {
   "cell_type": "code",
   "execution_count": null,
   "id": "e0766210",
   "metadata": {
    "vscode": {
     "languageId": "plaintext"
    }
   },
   "outputs": [],
   "source": [
    "print(\"Loading the mBART model and tokenizer...\")\n",
    "\n",
    "# Define the model name from Hugging Face\n",
    "model_name = \"facebook/mbart-large-50-one-to-many-mmt\"\n",
    "\n",
    "# Load the pre-trained model\n",
    "model = MBartForConditionalGeneration.from_pretrained(model_name)\n",
    "\n",
    "# Load the tokenizer with specified source and target languages\n",
    "tokenizer = MBart50TokenizerFast.from_pretrained(model_name, src_lang=\"en_XX\", tgt_lang=\"hi_IN\")\n",
    "\n",
    "print(\" Step 2 complete. Model and tokenizer are ready.\")"
   ]
  },
  {
   "cell_type": "code",
   "execution_count": null,
   "id": "3f5585c5",
   "metadata": {
    "vscode": {
     "languageId": "plaintext"
    }
   },
   "outputs": [],
   "source": [
    "# Define the function to tokenize our data\n",
    "def preprocess_function(examples):\n",
    "    # Tokenize the English documents (the inputs to the model)\n",
    "    model_inputs = tokenizer(examples['document'], max_length=512, truncation=True)\n",
    "\n",
    "    # Tokenize the Hindi summaries (the labels/targets for the model)\n",
    "    # The 'as_target_tokenizer' context manager ensures the tokenizer is set up for the target language.\n",
    "    with tokenizer.as_target_tokenizer():\n",
    "        labels = tokenizer(examples['hindi_summary'], max_length=128, truncation=True)\n",
    "\n",
    "    model_inputs['labels'] = labels['input_ids']\n",
    "    return model_inputs\n",
    "\n",
    "print(\"Applying tokenizer to the entire dataset (this will show a progress bar)...\")\n",
    "# Use .map() to apply the preprocessing function to all examples\n",
    "tokenized_dataset = dataset.map(\n",
    "    preprocess_function,\n",
    "    batched=True,\n",
    "    remove_columns=dataset.column_names # Remove old text columns to save memory\n",
    ")\n",
    "\n",
    "print(\"\\n Step 3 complete. Data is now tokenized and ready for training.\")\n",
    "print(\"\\n--- Let's inspect the tokenized data: ---\")\n",
    "print(tokenized_dataset)"
   ]
  },
  {
   "cell_type": "code",
   "execution_count": null,
   "id": "cbefc3e1",
   "metadata": {
    "vscode": {
     "languageId": "plaintext"
    }
   },
   "outputs": [],
   "source": [
    "# The Data Collator intelligently pads batches of data to the same length.\n",
    "data_collator = DataCollatorForSeq2Seq(tokenizer, model=model)\n",
    "\n",
    "# Define the training arguments\n",
    "training_args = TrainingArguments(\n",
    "    output_dir=\"./results\",\n",
    "    num_train_epochs=1,  # Set to 1 for a quick demo. Use 3-5 for a real run.\n",
    "    per_device_train_batch_size=4, # Lower if you run out of memory\n",
    "    learning_rate=2e-5,\n",
    "    weight_decay=0.01,\n",
    "    logging_steps=20,\n",
    "    save_total_limit=2,\n",
    "    predict_with_generate=True, # Important for summarization\n",
    ")\n",
    "\n",
    "# Initialize the Trainer\n",
    "trainer = Trainer(\n",
    "    model=model,\n",
    "    args=training_args,\n",
    "    train_dataset=tokenized_dataset,\n",
    "    data_collator=data_collator,\n",
    ")\n",
    "\n",
    "# --- Start the training ---\n",
    "print(\"\\n🚀 Starting model fine-tuning... The Trainer will show a detailed progress bar.\")\n",
    "trainer.train()\n",
    "\n",
    "print(\"\\n Step 4 complete. Model has been fine-tuned!\")"
   ]
  },
  {
   "cell_type": "code",
   "execution_count": null,
   "id": "24d7f30f",
   "metadata": {
    "vscode": {
     "languageId": "plaintext"
    }
   },
   "outputs": [],
   "source": [
    "# --- Save the final model and tokenizer ---\n",
    "final_model_path = \"./my_finetuned_news_summarizer\"\n",
    "trainer.save_model(final_model_path)\n",
    "tokenizer.save_pretrained(final_model_path)\n",
    "print(f\"Model and tokenizer saved to '{final_model_path}'\")\n",
    "\n",
    "\n",
    "# --- Test the new model with the pipeline ---\n",
    "from transformers import pipeline\n",
    "\n",
    "print(\"\\nLoading the fine-tuned model for inference...\")\n",
    "# Load the fine-tuned model using the pipeline for easy inference\n",
    "summarizer_pipe = pipeline(\n",
    "    \"summarization\",\n",
    "    model=final_model_path,\n",
    "    tokenizer=final_model_path,\n",
    "    src_lang=\"en_XX\",\n",
    "    tgt_lang=\"hi_IN\",\n",
    "    device=0 if torch.cuda.is_available() else -1 # Use GPU if available\n",
    ")\n",
    "\n",
    "# Our example article\n",
    "english_article_text = \"\"\"\n",
    "The Indian Space Research Organisation (ISRO) is set to launch its third lunar mission, Chandrayaan-3, aiming for a soft landing on the moon's surface. A successful landing would make India the fourth country in the world to achieve this feat, marking a major milestone for its space program.\n",
    "\"\"\"\n",
    "\n",
    "print(\"\\n--- Generating summary with the fine-tuned model: ---\")\n",
    "result = summarizer_pipe(english_article_text, max_length=60)\n",
    "\n",
    "print(f\"\\nOriginal Article:\\n{english_article_text}\")\n",
    "print(f\"\\nFine-Tuned Hindi Summary:\\n{result[0]['summary_text']}\")\n",
    "\n",
    "print(\"\\n Step 5 complete. Project baseline is now fine-tuned and tested!\")"
   ]
  }
 ],
 "metadata": {
  "language_info": {
   "name": "python"
  }
 },
 "nbformat": 4,
 "nbformat_minor": 5
}
